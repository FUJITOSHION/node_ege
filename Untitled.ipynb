{
 "cells": [
  {
   "cell_type": "code",
   "execution_count": 4,
   "metadata": {},
   "outputs": [],
   "source": [
    "import pandas as pd\n",
    "import numpy as np\n",
    "import networkx as nx\n",
    "import matplotlib.pyplot as plt"
   ]
  },
  {
   "cell_type": "code",
   "execution_count": 9,
   "metadata": {},
   "outputs": [],
   "source": [
    "edges = pd.read_csv('edges.csv', header=None)\n",
    "# columns=[\"startID\", \"finishID\", \"cost\", \"始点緯度\",'始点経度', \"終点緯度\",'終点経度'])"
   ]
  },
  {
   "cell_type": "code",
   "execution_count": 10,
   "metadata": {},
   "outputs": [],
   "source": [
    "nodes = pd.DataFrame({'ノードID':edges[0],'緯度':edges[5],'経度':edges[6]})"
   ]
  },
  {
   "cell_type": "code",
   "execution_count": 14,
   "metadata": {},
   "outputs": [
    {
     "data": {
      "text/html": [
       "<div>\n",
       "<style scoped>\n",
       "    .dataframe tbody tr th:only-of-type {\n",
       "        vertical-align: middle;\n",
       "    }\n",
       "\n",
       "    .dataframe tbody tr th {\n",
       "        vertical-align: top;\n",
       "    }\n",
       "\n",
       "    .dataframe thead th {\n",
       "        text-align: right;\n",
       "    }\n",
       "</style>\n",
       "<table border=\"1\" class=\"dataframe\">\n",
       "  <thead>\n",
       "    <tr style=\"text-align: right;\">\n",
       "      <th></th>\n",
       "      <th>0</th>\n",
       "      <th>1</th>\n",
       "      <th>2</th>\n",
       "      <th>3</th>\n",
       "      <th>4</th>\n",
       "      <th>5</th>\n",
       "      <th>6</th>\n",
       "    </tr>\n",
       "  </thead>\n",
       "  <tbody>\n",
       "    <tr>\n",
       "      <th>0</th>\n",
       "      <td>841</td>\n",
       "      <td>667</td>\n",
       "      <td>304.3140</td>\n",
       "      <td>35.157238</td>\n",
       "      <td>139.146536</td>\n",
       "      <td>35.154553</td>\n",
       "      <td>139.145849</td>\n",
       "    </tr>\n",
       "    <tr>\n",
       "      <th>1</th>\n",
       "      <td>667</td>\n",
       "      <td>841</td>\n",
       "      <td>304.3140</td>\n",
       "      <td>35.154553</td>\n",
       "      <td>139.145849</td>\n",
       "      <td>35.157238</td>\n",
       "      <td>139.146536</td>\n",
       "    </tr>\n",
       "    <tr>\n",
       "      <th>2</th>\n",
       "      <td>840</td>\n",
       "      <td>716</td>\n",
       "      <td>260.9100</td>\n",
       "      <td>35.156729</td>\n",
       "      <td>139.146752</td>\n",
       "      <td>35.154387</td>\n",
       "      <td>139.146493</td>\n",
       "    </tr>\n",
       "    <tr>\n",
       "      <th>3</th>\n",
       "      <td>716</td>\n",
       "      <td>840</td>\n",
       "      <td>260.9100</td>\n",
       "      <td>35.154387</td>\n",
       "      <td>139.146493</td>\n",
       "      <td>35.156729</td>\n",
       "      <td>139.146752</td>\n",
       "    </tr>\n",
       "    <tr>\n",
       "      <th>4</th>\n",
       "      <td>841</td>\n",
       "      <td>840</td>\n",
       "      <td>59.6537</td>\n",
       "      <td>35.157238</td>\n",
       "      <td>139.146536</td>\n",
       "      <td>35.156729</td>\n",
       "      <td>139.146752</td>\n",
       "    </tr>\n",
       "    <tr>\n",
       "      <th>5</th>\n",
       "      <td>840</td>\n",
       "      <td>841</td>\n",
       "      <td>59.6537</td>\n",
       "      <td>35.156729</td>\n",
       "      <td>139.146752</td>\n",
       "      <td>35.157238</td>\n",
       "      <td>139.146536</td>\n",
       "    </tr>\n",
       "    <tr>\n",
       "      <th>6</th>\n",
       "      <td>915</td>\n",
       "      <td>913</td>\n",
       "      <td>109.2090</td>\n",
       "      <td>35.179948</td>\n",
       "      <td>139.017086</td>\n",
       "      <td>35.178974</td>\n",
       "      <td>139.016922</td>\n",
       "    </tr>\n",
       "    <tr>\n",
       "      <th>7</th>\n",
       "      <td>913</td>\n",
       "      <td>915</td>\n",
       "      <td>109.2090</td>\n",
       "      <td>35.178974</td>\n",
       "      <td>139.016922</td>\n",
       "      <td>35.179948</td>\n",
       "      <td>139.017086</td>\n",
       "    </tr>\n",
       "    <tr>\n",
       "      <th>8</th>\n",
       "      <td>916</td>\n",
       "      <td>915</td>\n",
       "      <td>106.6860</td>\n",
       "      <td>35.180530</td>\n",
       "      <td>139.018024</td>\n",
       "      <td>35.179948</td>\n",
       "      <td>139.017086</td>\n",
       "    </tr>\n",
       "    <tr>\n",
       "      <th>9</th>\n",
       "      <td>915</td>\n",
       "      <td>916</td>\n",
       "      <td>106.6860</td>\n",
       "      <td>35.179948</td>\n",
       "      <td>139.017086</td>\n",
       "      <td>35.180530</td>\n",
       "      <td>139.018024</td>\n",
       "    </tr>\n",
       "  </tbody>\n",
       "</table>\n",
       "</div>"
      ],
      "text/plain": [
       "     0    1         2          3           4          5           6\n",
       "0  841  667  304.3140  35.157238  139.146536  35.154553  139.145849\n",
       "1  667  841  304.3140  35.154553  139.145849  35.157238  139.146536\n",
       "2  840  716  260.9100  35.156729  139.146752  35.154387  139.146493\n",
       "3  716  840  260.9100  35.154387  139.146493  35.156729  139.146752\n",
       "4  841  840   59.6537  35.157238  139.146536  35.156729  139.146752\n",
       "5  840  841   59.6537  35.156729  139.146752  35.157238  139.146536\n",
       "6  915  913  109.2090  35.179948  139.017086  35.178974  139.016922\n",
       "7  913  915  109.2090  35.178974  139.016922  35.179948  139.017086\n",
       "8  916  915  106.6860  35.180530  139.018024  35.179948  139.017086\n",
       "9  915  916  106.6860  35.179948  139.017086  35.180530  139.018024"
      ]
     },
     "execution_count": 14,
     "metadata": {},
     "output_type": "execute_result"
    }
   ],
   "source": [
    "edges.head(10)#"
   ]
  },
  {
   "cell_type": "code",
   "execution_count": null,
   "metadata": {},
   "outputs": [],
   "source": [
    "edges.head(1)"
   ]
  },
  {
   "cell_type": "code",
   "execution_count": 16,
   "metadata": {},
   "outputs": [
    {
     "data": {
      "image/png": "[encoded data removed]",
      "text/plain": [
       "<Figure size 432x288 with 1 Axes>"
      ]
     },
     "metadata": {
      "needs_background": "light"
     },
     "output_type": "display_data"
    },
    {
     "data": {
      "text/plain": [
       "<Figure size 1152x1152 with 0 Axes>"
      ]
     },
     "metadata": {},
     "output_type": "display_data"
    }
   ],
   "source": [
    "x = nodes['経度']\n",
    "y = nodes['緯度']\n",
    "plt.scatter(x,y)\n",
    "# G = nx.DiGraph()\n",
    "# nx.add_path(G, x)\n",
    "# nx.add_path(G, y)\n",
    "# nx.draw_networkx(G)\n",
    "plt.figure(figsize=(16, 16))\n",
    "plt.show()"
   ]
  },
  {
   "cell_type": "code",
   "execution_count": 7,
   "metadata": {},
   "outputs": [
    {
     "data": {
      "image/png": "[encoded data removed]",
      "text/plain": [
       "<Figure size 432x288 with 1 Axes>"
      ]
     },
     "metadata": {},
     "output_type": "display_data"
    }
   ],
   "source": [
    "nodes = [1,2,3,4,5]\n",
    "edges = [[1,2],[1,3],[2,3],[3,5],[4,5]]\n",
    "pos = {1:np.array([1,1]),2:np.array([1,3]),3:np.array([2,2]),4:np.array([3,1]),5:np.array([3,3])}\n",
    "G = nx.Graph()\n",
    "# G.add_nodes_from(nodes)\n",
    "G.add_edges_from(edges)\n",
    "nx.draw_networkx(G, pos)\n",
    "plt.show()"
   ]
  },
  {
   "cell_type": "code",
   "execution_count": null,
   "metadata": {},
   "outputs": [],
   "source": [
    "#"
   ]
  }
 ],
 "metadata": {
  "kernelspec": {
   "display_name": "Python 3",
   "language": "python",
   "name": "python3"
  },
  "language_info": {
   "codemirror_mode": {
    "name": "ipython",
    "version": 3
   },
   "file_extension": ".py",
   "mimetype": "text/x-python",
   "name": "python",
   "nbconvert_exporter": "python",
   "pygments_lexer": "ipython3",
   "version": "3.8.3"
  }
 },
 "nbformat": 4,
 "nbformat_minor": 4
}
